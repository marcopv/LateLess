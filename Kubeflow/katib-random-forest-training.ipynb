{
 "cells": [
  {
   "cell_type": "code",
   "execution_count": null,
   "metadata": {
    "tags": []
   },
   "outputs": [],
   "source": [
    "# !pip install --user -r requirements.txt"
   ]
  },
  {
   "cell_type": "code",
   "execution_count": null,
   "metadata": {
    "id": "HAYiv-r5yjEt",
    "tags": [
     "imports"
    ]
   },
   "outputs": [],
   "source": [
    "import numpy as np \n",
    "import pandas as pd \n",
    "import matplotlib.pyplot as plt\n",
    "import seaborn as sns\n",
    "import os\n",
    "import joblib\n",
    "from sklearn import preprocessing\n",
    "from sklearn.model_selection import train_test_split\n",
    "from sklearn.tree import DecisionTreeClassifier\n",
    "from sklearn.ensemble import RandomForestClassifier\n",
    "from sklearn.model_selection import GridSearchCV, RandomizedSearchCV\n",
    "import lightgbm as lgbm"
   ]
  },
  {
   "cell_type": "code",
   "execution_count": null,
   "metadata": {
    "tags": []
   },
   "outputs": [],
   "source": [
    "from sklearn.metrics import (confusion_matrix, accuracy_score, precision_score, recall_score, f1_score, RocCurveDisplay, auc, roc_curve)\n",
    "from scikitplot.metrics import plot_roc"
   ]
  },
  {
   "cell_type": "markdown",
   "metadata": {
    "id": "ofitmgHI3uBe",
    "jp-MarkdownHeadingCollapsed": true,
    "tags": []
   },
   "source": [
    "# Feature Extraction"
   ]
  },
  {
   "cell_type": "code",
   "execution_count": null,
   "metadata": {
    "id": "qNVvFE6m3ueB",
    "tags": [
     "block:feature_extraction"
    ]
   },
   "outputs": [],
   "source": [
    "df = pd.read_csv('Dataset/Airlines.csv')\n",
    "\n",
    "df['Length_by_hours'] = df['Length'] / 60\n",
    "df['Time_by_hour'] = df['Time'] / 60"
   ]
  },
  {
   "cell_type": "code",
   "execution_count": null,
   "metadata": {
    "id": "KLjBwlNGyjE6",
    "tags": []
   },
   "outputs": [],
   "source": [
    "#0 --> Morning | 1 --> Afternoon | 2 --> Evening | 3 --> Night\n",
    "departure_period = []\n",
    "for i in range(0,len(df)):\n",
    "    if ((df['Time_by_hour'][i] >= 5) & (df['Time_by_hour'][i] < 12)):      \n",
    "        departure_period.append(0)\n",
    "    elif ((df['Time_by_hour'][i] >= 12) & (df['Time_by_hour'][i] < 17)):    \n",
    "        departure_period.append(1)\n",
    "    elif ((df['Time_by_hour'][i] >= 17) & (df['Time_by_hour'][i] < 21)): \n",
    "        departure_period.append(2)\n",
    "    else: \n",
    "        departure_period.append(3)\n",
    "\n",
    "df['Departure_period'] = departure_period"
   ]
  },
  {
   "cell_type": "code",
   "execution_count": null,
   "metadata": {
    "id": "_TYxi7m4yjE7",
    "tags": []
   },
   "outputs": [],
   "source": [
    "# 0 --> not holiday | 1 --> holiday\n",
    "holiday = []\n",
    "for i in range(0,len(df)):\n",
    "    if ((df['DayOfWeek'][i] == 6) | (df['DayOfWeek'][i] == 7)):      \n",
    "        holiday.append(1)\n",
    "    else: \n",
    "        holiday.append(0)\n",
    "\n",
    "df['Holiday'] = holiday"
   ]
  },
  {
   "cell_type": "code",
   "execution_count": null,
   "metadata": {
    "id": "iZGHt4d9yjE8",
    "tags": []
   },
   "outputs": [],
   "source": [
    "arrival_time = []\n",
    "for i in range(0,len(df)):     \n",
    "    if ((df['Time_by_hour'][i] + df['Length_by_hours'][i]) >=24):\n",
    "        arrival_time.append((df['Time_by_hour'][i] + df['Length_by_hours'][i])-24)\n",
    "    else:\n",
    "        arrival_time.append(df['Time_by_hour'][i] + df['Length_by_hours'][i])\n",
    "        \n",
    "df['Arrival_Time'] = arrival_time"
   ]
  },
  {
   "cell_type": "code",
   "execution_count": null,
   "metadata": {
    "id": "9CaE7cl0yjE8",
    "tags": []
   },
   "outputs": [],
   "source": [
    "arrival_period = []\n",
    "for i in range(0,len(df)):\n",
    "    if ((df['Arrival_Time'][i] >= 5) & (df['Arrival_Time'][i] < 12)):      \n",
    "        arrival_period.append(0)\n",
    "    elif ((df['Arrival_Time'][i] >= 12) & (df['Arrival_Time'][i] < 17)):    \n",
    "        arrival_period.append(1)\n",
    "    elif ((df['Arrival_Time'][i] >= 17) & (df['Arrival_Time'][i] < 21)): \n",
    "        arrival_period.append(2)\n",
    "    else: \n",
    "        arrival_period.append(3)\n",
    "        \n",
    "df['Arrival_period'] = arrival_period"
   ]
  },
  {
   "cell_type": "code",
   "execution_count": null,
   "metadata": {
    "tags": [
     "block:",
     "prev:feature_extraction"
    ]
   },
   "outputs": [],
   "source": [
    "df.drop(columns=['Length', 'Time'], inplace=True)"
   ]
  },
  {
   "cell_type": "code",
   "execution_count": null,
   "metadata": {
    "tags": []
   },
   "outputs": [],
   "source": [
    "df.drop(columns=['id'], inplace=True)"
   ]
  },
  {
   "cell_type": "code",
   "execution_count": null,
   "metadata": {
    "id": "rivOTzeAyjE2",
    "tags": [
     "block:"
    ]
   },
   "outputs": [],
   "source": [
    "le = preprocessing.LabelEncoder()"
   ]
  },
  {
   "cell_type": "code",
   "execution_count": null,
   "metadata": {
    "id": "Ntij8el2Lnd_",
    "tags": []
   },
   "outputs": [],
   "source": [
    "airportfrom = dict()\n",
    "tmp = le.fit_transform(df['AirportFrom'])\n",
    "for x, y in zip(df['AirportFrom'], tmp):\n",
    "  airportfrom[x] = y\n",
    "df['AirportFrom'] = tmp "
   ]
  },
  {
   "cell_type": "code",
   "execution_count": null,
   "metadata": {
    "id": "rEKyaFZdLnuR",
    "tags": []
   },
   "outputs": [],
   "source": [
    "airlines = dict()\n",
    "tmp = le.fit_transform(df['Airline'])\n",
    "for x, y in zip(df['Airline'], tmp):\n",
    "  airlines[x] = y\n",
    "df['Airline'] = tmp "
   ]
  },
  {
   "cell_type": "code",
   "execution_count": null,
   "metadata": {
    "id": "D2PieQM3KP9J",
    "tags": []
   },
   "outputs": [],
   "source": [
    "airportto = dict()\n",
    "tmp = le.fit_transform(df['AirportTo'])\n",
    "for x, y in zip(df['AirportTo'], tmp):\n",
    "  airportto[x] = y\n",
    "df['AirportTo'] = tmp "
   ]
  },
  {
   "cell_type": "code",
   "execution_count": null,
   "metadata": {
    "id": "mWMhgTj2yjE9",
    "tags": [
     "block:"
    ]
   },
   "outputs": [],
   "source": [
    "X = df.drop(columns='Delay')\n",
    "y = df['Delay']"
   ]
  },
  {
   "cell_type": "code",
   "execution_count": null,
   "metadata": {
    "id": "GB96GBOlyjE9",
    "tags": []
   },
   "outputs": [],
   "source": [
    "X_train, X_test, y_train, y_test = train_test_split(X, y, train_size=0.8, shuffle=True, stratify=y, random_state=66)"
   ]
  },
  {
   "cell_type": "code",
   "execution_count": null,
   "metadata": {
    "tags": []
   },
   "outputs": [],
   "source": [
    "X_train, X_val, y_train, y_val = train_test_split(X_train, y_train, train_size=0.8, shuffle=True, stratify=y_train, random_state=66)"
   ]
  },
  {
   "cell_type": "code",
   "execution_count": null,
   "metadata": {
    "tags": [
     "functions"
    ]
   },
   "outputs": [],
   "source": [
    "def save_model(model, path):\n",
    "    joblib.dump(model, open(path,'wb'))"
   ]
  },
  {
   "cell_type": "code",
   "execution_count": null,
   "metadata": {
    "tags": [
     "functions"
    ]
   },
   "outputs": [],
   "source": [
    "def score_model(yt, yp):\n",
    "    accuracy = round(accuracy_score(yt, yp), 3)\n",
    "    precision = round(precision_score(yt, yp), 3)\n",
    "    recall = round(recall_score(yt, yp), 3)\n",
    "    return accuracy, precision, recall;\n",
    "\n",
    "def output_result(accuracy, precision, recall):\n",
    "    print(f'Accuracy of the model: {accuracy}')\n",
    "    print(f'Precision Score of the model: {precision}')\n",
    "    print(f'Recall Score of the model: {recall}')\n",
    "\n",
    "    \n",
    "def plot_conf_matrix(yt, yp):\n",
    "    CM_DT = confusion_matrix(yt, yp, normalize='true')\n",
    "    sns.heatmap(CM_DT, annot=True, center=True)\n",
    "    plt.show()\n",
    "    \n",
    "def print_score(name, model, X, y, Xv, yv):\n",
    "    print(name,' Train Score is : ' , model.score(X, y))\n",
    "    print(name, ' Validation Score is : ' , model.score(Xv, yv))\n",
    "    \n",
    "def print_roc(y_pred, y_test):\n",
    "    fpr, tpr, thresholds =roc_curve(y_pred, y_test)\n",
    "    roc_auc = auc(fpr, tpr)\n",
    "    display = RocCurveDisplay(fpr=fpr, tpr=tpr, roc_auc=roc_auc,\n",
    "                              estimator_name='example estimator')\n",
    "    display.plot()\n",
    "    plt.show()\n",
    "    \n",
    "def compute_weights(y):\n",
    "    one =  y.value_counts()[1]\n",
    "    zero = y.value_counts()[0]\n",
    "    summ = one + zero\n",
    "    return {0: zero/summ, 1: one/summ}"
   ]
  },
  {
   "cell_type": "markdown",
   "metadata": {
    "id": "Cli1ZYhU52cx",
    "jp-MarkdownHeadingCollapsed": true,
    "tags": []
   },
   "source": [
    "# Train Random Forest"
   ]
  },
  {
   "cell_type": "code",
   "execution_count": null,
   "metadata": {
    "tags": [
     "pipeline-parameters"
    ]
   },
   "outputs": [],
   "source": [
    "max_depth=20\n",
    "n_estimators=50\n",
    "min_samples_split=2"
   ]
  },
  {
   "cell_type": "code",
   "execution_count": null,
   "metadata": {
    "colab": {
     "base_uri": "https://localhost:8080/"
    },
    "executionInfo": {
     "elapsed": 25326,
     "status": "ok",
     "timestamp": 1672597549800,
     "user": {
      "displayName": "MARCO PASTORE",
      "userId": "07749110507613469961"
     },
     "user_tz": -60
    },
    "id": "2q1IpdZFyjE9",
    "outputId": "557c7b02-782c-4a6e-c269-3fcd6a3a8e2e",
    "tags": [
     "block:train_random_forest",
     "prev:feature_extraction"
    ]
   },
   "outputs": [],
   "source": [
    "parameters = {'n_estimators': [int(n_estimators)], \n",
    "              'max_depth': [int(max_depth)],\n",
    "              'min_samples_split': [int(min_samples_split)]}\n",
    "\n",
    "RandomForestClassifierModel = RandomForestClassifier(random_state=66, class_weight = compute_weights(y))\n",
    "\n",
    "rf_grid = GridSearchCV(RandomForestClassifierModel, parameters, cv=4)\n",
    "rf_grid.fit(X_train, y_train)\n",
    "\n",
    "print_score('RandomForestClassifierModel', rf_grid, X_train, y_train, X_val, y_val)"
   ]
  },
  {
   "cell_type": "markdown",
   "metadata": {
    "id": "eqPHBhfh559w",
    "jp-MarkdownHeadingCollapsed": true,
    "tags": []
   },
   "source": [
    "# Test Random Forest"
   ]
  },
  {
   "cell_type": "code",
   "execution_count": null,
   "metadata": {
    "colab": {
     "base_uri": "https://localhost:8080/",
     "height": 317
    },
    "executionInfo": {
     "elapsed": 781,
     "status": "ok",
     "timestamp": 1672597506311,
     "user": {
      "displayName": "MARCO PASTORE",
      "userId": "07749110507613469961"
     },
     "user_tz": -60
    },
    "id": "ZAkaXbmvyjE-",
    "outputId": "300ca83a-9851-435d-9c8b-10f5adabd78d",
    "tags": [
     "block:eval_random_forest",
     "prev:train_random_forest"
    ]
   },
   "outputs": [],
   "source": [
    "y_pred_RF = rf_grid.predict(X_val)\n",
    "save_model(rf_grid, \"Katib-RandomForest.sav\")\n",
    "\n",
    "rf_accuracy_score, rf_precision_score, rf_recall_score = score_model(y_val, y_pred_RF)\n",
    "output_result(rf_accuracy_score, rf_precision_score, rf_recall_score)\n",
    "plot_conf_matrix(y_val, y_pred_RF)\n",
    "print_roc(y_val, y_pred_RF)"
   ]
  },
  {
   "cell_type": "markdown",
   "metadata": {
    "id": "_YaUuopP5_bM",
    "jp-MarkdownHeadingCollapsed": true,
    "tags": []
   },
   "source": [
    "# Pipeline Metrics"
   ]
  },
  {
   "cell_type": "code",
   "execution_count": null,
   "metadata": {
    "tags": [
     "pipeline-metrics"
    ]
   },
   "outputs": [],
   "source": [
    "print(rf_accuracy_score)\n",
    "print(rf_precision_score)\n",
    "print(rf_recall_score)"
   ]
  }
 ],
 "metadata": {
  "colab": {
   "collapsed_sections": [
    "XI355x9r0mYr",
    "KieWu37p0o93",
    "tZlbEzR7yjEx",
    "ofitmgHI3uBe",
    "PLxUbo2VyjE4",
    "zNf1Gs_UyjE8",
    "e1xwS1-U4Jka",
    "ellMNeamyjE9",
    "mFGbt92N5aEw",
    "kXCsLtZt5ecs",
    "zfhdaHMJ5lwj",
    "Cli1ZYhU52cx",
    "eqPHBhfh559w",
    "_YaUuopP5_bM",
    "qP_pXAnq6DHV",
    "g1YCkk146Iz7",
    "wH_pr-Js6M7t",
    "u8TKvqeu6UFU",
    "QN_RmldM6WHN",
    "2RFRRMH86X3N",
    "PoFEYV6EQuCQ"
   ],
   "provenance": [],
   "toc_visible": true
  },
  "kernelspec": {
   "display_name": "Python 3 (ipykernel)",
   "language": "python",
   "name": "python3"
  },
  "kubeflow_notebook": {
   "autosnapshot": true,
   "deploy_config": {},
   "docker_image": "gcr.io/arrikto/jupyter-kale-py38@sha256:2e1ce3427b780c0c78e7cfec527ee10c391092fdc4a8344cd76f8b83c61c5234",
   "experiment_name": "katib-random-forest",
   "katib_metadata": {
    "algorithm": {
     "algorithmName": "grid",
     "algorithmSettings": [
      {
       "name": "random_state",
       "value": "66"
      }
     ]
    },
    "maxFailedTrialCount": 2,
    "maxTrialCount": 10,
    "objective": {
     "additionalMetricNames": [
      "rf-precision-score",
      "rf-recall-score"
     ],
     "goal": 40,
     "objectiveMetricName": "rf-accuracy-score",
     "type": "maximize"
    },
    "parallelTrialCount": 2,
    "parameters": [
     {
      "feasibleSpace": {
       "max": "21",
       "min": "8",
       "step": "2"
      },
      "name": "max_depth",
      "parameterType": "int"
     },
     {
      "feasibleSpace": {
       "max": "701",
       "min": "200",
       "step": "100"
      },
      "name": "n_estimators",
      "parameterType": "int"
     },
     {
      "feasibleSpace": {
       "max": "24",
       "min": "2",
       "step": "3"
      },
      "name": "min_samples_split",
      "parameterType": "int"
     }
    ]
   },
   "katib_run": true,
   "pipeline_description": "",
   "pipeline_name": "random-forest-katib",
   "snapshot_volumes": true,
   "volume_access_mode": "rwm",
   "volumes": [
    {
     "annotations": [],
     "mount_point": "/home/jovyan",
     "name": "main-workspace-92fqq",
     "size": 10,
     "size_type": "Gi",
     "snapshot": false,
     "type": "clone"
    }
   ]
  },
  "language_info": {
   "codemirror_mode": {
    "name": "ipython",
    "version": 3
   },
   "file_extension": ".py",
   "mimetype": "text/x-python",
   "name": "python",
   "nbconvert_exporter": "python",
   "pygments_lexer": "ipython3",
   "version": "3.8.0"
  },
  "toc-autonumbering": false
 },
 "nbformat": 4,
 "nbformat_minor": 4
}
